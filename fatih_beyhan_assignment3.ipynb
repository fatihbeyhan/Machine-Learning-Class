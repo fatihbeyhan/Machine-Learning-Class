{
 "cells": [
  {
   "cell_type": "markdown",
   "metadata": {},
   "source": [
    "**Notes**:\n",
    "* Feel free to add cells as you need them.\n",
    "* Keep your code clean and readable.\n",
    "* Comments included in this document are just to summarize the question. For full details make sure you read the assignment pdf thoroughly.\n",
    "* Don't forget to rename the file when you finish"
   ]
  },
  {
   "cell_type": "markdown",
   "metadata": {},
   "source": [
    "# EECS 461/ECE 523  | Assignment 3"
   ]
  },
  {
   "cell_type": "code",
   "execution_count": 31,
   "metadata": {
    "ExecuteTime": {
     "end_time": "2019-11-22T21:10:19.201922Z",
     "start_time": "2019-11-22T21:10:17.698759Z"
    }
   },
   "outputs": [],
   "source": [
    "# IMPORTING EVERYTHING I NEED\n",
    "import warnings\n",
    "warnings.filterwarnings(\"ignore\")\n",
    "import pandas as pd\n",
    "from sklearn.preprocessing import OneHotEncoder\n",
    "from sklearn.preprocessing import StandardScaler\n",
    "from sklearn.model_selection import train_test_split\n",
    "from sklearn.neighbors import KNeighborsRegressor\n",
    "from sklearn.metrics import mean_squared_error\n",
    "import matplotlib.pyplot as plt\n",
    "from sklearn.tree import DecisionTreeRegressor\n",
    "from sklearn.model_selection import GridSearchCV \n",
    "from sklearn.ensemble import BaggingRegressor\n",
    "from sklearn.linear_model import LinearRegression\n",
    "from sklearn.neighbors import KNeighborsRegressor\n",
    "from sklearn.ensemble import RandomForestRegressor"
   ]
  },
  {
   "cell_type": "code",
   "execution_count": 32,
   "metadata": {},
   "outputs": [],
   "source": [
    "# WRITING A FUNCTION WHICH WILL GIVE ME THE DATAFRAME I NEED SO I CAN USE IT FOR TRAINING AND TEST SET\n",
    "def x_e_and_y(filename):\n",
    "    df = pd.DataFrame(data = pd.read_csv(filename))\n",
    "    \n",
    "    df = df.dropna(subset=[\"price\"]).reset_index(drop=True)\n",
    "    \n",
    "    train_x_a = df.iloc[:,:-1] \n",
    "    \n",
    "    train_y = pd.DataFrame(df.iloc[:,-1])\n",
    "    \n",
    "    \n",
    "    nan_columns = train_x_a.columns[train_x_a.isna().any()].tolist()\n",
    "    \n",
    "    train_x_b = train_x_a.fillna(train_x_a.mean()) \n",
    "    \n",
    "    categorical_columns = train_x_b.select_dtypes([\"object\"]).columns.tolist()\n",
    "\n",
    "    encoder = OneHotEncoder()\n",
    "    encodedColumns = encoder.fit_transform(train_x_b[categorical_columns]).toarray()\n",
    "    encodedDataFrame = pd.DataFrame(encodedColumns,columns = encoder.get_feature_names())\n",
    "    \n",
    "    \n",
    "    numericalColumns = train_x_b.select_dtypes([\"float64\"]).columns.tolist()\n",
    "    numericalDataFrame = pd.DataFrame(train_x_b[numericalColumns],columns = numericalColumns)\n",
    "    \n",
    "    \n",
    "    train_x_d = encodedDataFrame.join(numericalDataFrame)\n",
    "    train_x_d = train_x_d.fillna(train_x_d.mean())\n",
    "\n",
    "\n",
    "    Std_Sca = StandardScaler()\n",
    "    train_x_e = Std_Sca.fit_transform(train_x_d)\n",
    "    \n",
    "    train_x_e = pd.DataFrame(train_x_e,columns=train_x_d.columns)\n",
    "\n",
    "    return train_x_e,train_y\n",
    "\n",
    "\n",
    "train_x_e,train_y = x_e_and_y('training.csv')\n",
    "test_x , test_y = x_e_and_y('test.csv')"
   ]
  },
  {
   "cell_type": "markdown",
   "metadata": {},
   "source": [
    "## KNN REGGRESSOR TO PREDICT CAR PRICES "
   ]
  },
  {
   "cell_type": "markdown",
   "metadata": {},
   "source": [
    "### a) Training Vs Validation Plot:"
   ]
  },
  {
   "cell_type": "code",
   "execution_count": 33,
   "metadata": {
    "scrolled": true
   },
   "outputs": [],
   "source": [
    "# SPLITING OUR DATA INTO TRAIN AND VALIDATION SETS\n",
    "train_split_x , val_split_x , train_split_y , val_split_y = train_test_split(train_x_e,train_y, test_size=0.2,random_state=0)"
   ]
  },
  {
   "cell_type": "code",
   "execution_count": 34,
   "metadata": {},
   "outputs": [],
   "source": [
    "knn_training_errors = []\n",
    "knn_validation_errors = []"
   ]
  },
  {
   "cell_type": "code",
   "execution_count": 35,
   "metadata": {},
   "outputs": [],
   "source": [
    "# STARTING A LOOP FOR 30 STEPS AND USING THEM AS N OF KNN. FITTING THE MODEL AND TESTING THE TRAIN AND VAL ERRORS AND ADDING\n",
    "# THEM TO OUR LIST OF ERRORS\n",
    "for i in range(30):\n",
    "    i = i+1\n",
    "    \n",
    "    knn_reg = KNeighborsRegressor(n_neighbors=i)\n",
    "    knn_reg_fit = knn_reg.fit(train_split_x,train_split_y)\n",
    "    \n",
    "    knn_reg_pred_train = knn_reg.predict(train_split_x)\n",
    "    knn_reg_pred_val = knn_reg.predict(val_split_x)\n",
    "    \n",
    "    knn_training_error = mean_squared_error(knn_reg_pred_train,train_split_y)\n",
    "    \n",
    "    knn_validation_error = mean_squared_error(knn_reg_pred_val,val_split_y)\n",
    "    \n",
    "    knn_training_errors.append(knn_training_error)\n",
    "    knn_validation_errors.append(knn_validation_error)\n"
   ]
  },
  {
   "cell_type": "code",
   "execution_count": 36,
   "metadata": {},
   "outputs": [
    {
     "data": {
      "text/plain": [
       "[<matplotlib.lines.Line2D at 0x26527f1ba88>,\n",
       " <matplotlib.lines.Line2D at 0x26527f2d808>]"
      ]
     },
     "execution_count": 36,
     "metadata": {},
     "output_type": "execute_result"
    },
    {
     "data": {
      "image/png": "[encoded data removed]",
      "text/plain": [
       "<Figure size 432x288 with 1 Axes>"
      ]
     },
     "metadata": {
      "needs_background": "light"
     },
     "output_type": "display_data"
    }
   ],
   "source": [
    "# PLOTTING THE ERRORS \n",
    "\n",
    "# BLUE LINE FOR TRAINING AND ORANGE LINE FOR VALIDATION ERRORS\n",
    "\n",
    "knn_n = [i+1 for i in range(30)]\n",
    "\n",
    "plt.plot(knn_n,knn_training_errors,knn_validation_errors)\n"
   ]
  },
  {
   "cell_type": "markdown",
   "metadata": {},
   "source": [
    "### b) Test your model:"
   ]
  },
  {
   "cell_type": "code",
   "execution_count": 37,
   "metadata": {},
   "outputs": [
    {
     "data": {
      "text/plain": [
       "2"
      ]
     },
     "execution_count": 37,
     "metadata": {},
     "output_type": "execute_result"
    }
   ],
   "source": [
    "# IN HERE, I AM CHECKING VALIDATION ERRORS FOR EACH K VALUE AND SELECTING THE K VALUE WHICH GIVES THE MINIMUM VAL ERROR\n",
    "\n",
    "errors = []\n",
    "for i in range(len(knn_training_errors)):\n",
    "        errors.append((knn_validation_errors[i],i+1))\n",
    "errors.sort()\n",
    "best_n = errors[0][1]\n",
    "best_n"
   ]
  },
  {
   "cell_type": "code",
   "execution_count": 38,
   "metadata": {
    "ExecuteTime": {
     "end_time": "2019-12-13T17:59:49.282500Z",
     "start_time": "2019-12-13T17:59:49.277513Z"
    }
   },
   "outputs": [],
   "source": [
    "# CREATING THE MODEL WITH BEST K VALUE AND FITTING IT THEN PREDICTING AND FINALLY PRINTING OUR MSE ERROR\n",
    "best_knn = KNeighborsRegressor(n_neighbors=best_n).fit(train_split_x,train_split_y)"
   ]
  },
  {
   "cell_type": "code",
   "execution_count": 39,
   "metadata": {},
   "outputs": [],
   "source": [
    "knn_preds = best_knn.predict(test_x)"
   ]
  },
  {
   "cell_type": "code",
   "execution_count": 40,
   "metadata": {},
   "outputs": [
    {
     "name": "stdout",
     "output_type": "stream",
     "text": [
      "36846783.1328125\n"
     ]
    }
   ],
   "source": [
    "knn_mse = mean_squared_error(knn_preds,test_y)\n",
    "print(knn_mse)"
   ]
  },
  {
   "cell_type": "markdown",
   "metadata": {},
   "source": [
    "## DECISION TREE REGRESSOR TO PREDICT CAR PRICES"
   ]
  },
  {
   "cell_type": "markdown",
   "metadata": {},
   "source": [
    "### c) Grid Search to find best model:"
   ]
  },
  {
   "cell_type": "code",
   "execution_count": 41,
   "metadata": {},
   "outputs": [],
   "source": [
    "# GIVING THE PARAMETERS WHICH ARE GIVING BY INSTRUCTRE AND DEFINING THE MODEL WITH 0 RANDOM_STATE VALUE AND CALLING OUR GRID SEARCH\n",
    "parameters = [{\"max_depth\" : [None, 1, 5, 10],\n",
    "               \"min_samples_split\" :[0.01, 0.05, 0.1, 0.3],\n",
    "               \"max_features\": [\"auto\", \"sqrt\", \"log2\"],\n",
    "               \"max_leaf_nodes\": [10, 50, 100, 250]}]\n",
    "\n",
    "\n",
    "dt_Reg = DecisionTreeRegressor(random_state=0)\n",
    "\n",
    "decision_tree_grid = GridSearchCV(estimator = dt_Reg, param_grid= parameters, cv=5,scoring='neg_mean_squared_error')\n",
    "\n",
    "decision_tree_grid_fit = decision_tree_grid.fit(train_x_e,train_y)"
   ]
  },
  {
   "cell_type": "code",
   "execution_count": 42,
   "metadata": {
    "scrolled": true
   },
   "outputs": [
    {
     "data": {
      "text/plain": [
       "{'max_depth': 5,\n",
       " 'max_features': 'auto',\n",
       " 'max_leaf_nodes': 10,\n",
       " 'min_samples_split': 0.1}"
      ]
     },
     "execution_count": 42,
     "metadata": {},
     "output_type": "execute_result"
    }
   ],
   "source": [
    "# PRINTING OUT THE BEST PARAMETERS FOR THIS GRID SEARCH\n",
    "decision_tree_grid.best_params_"
   ]
  },
  {
   "cell_type": "code",
   "execution_count": 43,
   "metadata": {},
   "outputs": [
    {
     "data": {
      "text/plain": [
       "9771397.014533112"
      ]
     },
     "execution_count": 43,
     "metadata": {},
     "output_type": "execute_result"
    }
   ],
   "source": [
    "# PRINTING OUT OUR BEST SCORE\n",
    "abs(decision_tree_grid.best_score_)"
   ]
  },
  {
   "cell_type": "markdown",
   "metadata": {},
   "source": [
    "### d) Test your model:"
   ]
  },
  {
   "cell_type": "code",
   "execution_count": 44,
   "metadata": {},
   "outputs": [],
   "source": [
    "# CREATING MODEL WITH BEST PARAMETERS AND TESTING ON OUR TEST SET AND PRINTING OUR TEST MSE FOR THIS MODEL \n",
    "best_tree = DecisionTreeRegressor(max_depth = 5, max_features= 'auto', max_leaf_nodes = 10, min_samples_split =  0.1,\n",
    "                                  random_state = 0)\n",
    "best_tree_fit = best_tree.fit(train_x_e,train_y)"
   ]
  },
  {
   "cell_type": "code",
   "execution_count": 45,
   "metadata": {},
   "outputs": [],
   "source": [
    "tree_preds = best_tree.predict(test_x)"
   ]
  },
  {
   "cell_type": "code",
   "execution_count": 46,
   "metadata": {},
   "outputs": [
    {
     "name": "stdout",
     "output_type": "stream",
     "text": [
      "38622220.42485659\n"
     ]
    }
   ],
   "source": [
    "tree_mse = mean_squared_error(tree_preds,test_y)\n",
    "print(tree_mse)"
   ]
  },
  {
   "cell_type": "markdown",
   "metadata": {},
   "source": [
    "## ENSEMBLE BAGGING REGRESSOR TO PREDICT CAR PRICES"
   ]
  },
  {
   "cell_type": "markdown",
   "metadata": {},
   "source": [
    "### e) Grid Search to find best model:"
   ]
  },
  {
   "cell_type": "code",
   "execution_count": 47,
   "metadata": {
    "ExecuteTime": {
     "end_time": "2019-12-13T18:09:52.935086Z",
     "start_time": "2019-12-13T18:09:52.931109Z"
    }
   },
   "outputs": [],
   "source": [
    "# SAME PROCESSES AS WE DID ON PREVIOUS CHAPTER WITH DIFFERENT PARAMETERS AND REST IS SAME\n",
    "parameters = [{\"base_estimator\": [LinearRegression(), KNeighborsRegressor(), DecisionTreeRegressor(random_state=0)],\n",
    "               \"n_estimators\":[25, 50, 100, 250], \"bootstrap_features\": [False, True], \"random_state\" : [0]}]\n",
    "bag_reg = BaggingRegressor()\n",
    "bag_grid = GridSearchCV(estimator = bag_reg , param_grid = parameters, cv=5 ,scoring = \"neg_mean_squared_error\")\n",
    "bag_grid_fit = bag_grid.fit(train_x_e,train_y)"
   ]
  },
  {
   "cell_type": "code",
   "execution_count": 48,
   "metadata": {},
   "outputs": [
    {
     "data": {
      "text/plain": [
       "{'base_estimator': DecisionTreeRegressor(criterion='mse', max_depth=None, max_features=None,\n",
       "                       max_leaf_nodes=None, min_impurity_decrease=0.0,\n",
       "                       min_impurity_split=None, min_samples_leaf=1,\n",
       "                       min_samples_split=2, min_weight_fraction_leaf=0.0,\n",
       "                       presort=False, random_state=0, splitter='best'),\n",
       " 'bootstrap_features': True,\n",
       " 'n_estimators': 25,\n",
       " 'random_state': 0}"
      ]
     },
     "execution_count": 48,
     "metadata": {},
     "output_type": "execute_result"
    }
   ],
   "source": [
    "bag_grid.best_params_"
   ]
  },
  {
   "cell_type": "code",
   "execution_count": 49,
   "metadata": {},
   "outputs": [
    {
     "data": {
      "text/plain": [
       "8075642.4664184"
      ]
     },
     "execution_count": 49,
     "metadata": {},
     "output_type": "execute_result"
    }
   ],
   "source": [
    "abs(bag_grid.best_score_)"
   ]
  },
  {
   "cell_type": "markdown",
   "metadata": {},
   "source": [
    "### f) Test your model:"
   ]
  },
  {
   "cell_type": "code",
   "execution_count": 50,
   "metadata": {},
   "outputs": [],
   "source": [
    "# SAME PROCESSES AS WE DID ON PREVIOUS CHAPTER WITH DIFFERENT PARAMETERS AND REST IS SAME\n",
    "\n",
    "best_bag = BaggingRegressor(DecisionTreeRegressor(criterion='mse', max_depth=None, max_features=None,\n",
    "                                                  max_leaf_nodes=None, min_impurity_decrease=0.0,\n",
    "                                                  min_impurity_split=None, min_samples_leaf=1,\n",
    "                                                  min_samples_split=2, min_weight_fraction_leaf=0.0,\n",
    "                                                  presort=False, random_state=0, splitter='best'),\n",
    "                            bootstrap_features = True, \n",
    "                            n_estimators = 25, \n",
    "                            random_state = 0)\n",
    "\n",
    "best_bag_fit = best_bag.fit(train_x_e,train_y)"
   ]
  },
  {
   "cell_type": "code",
   "execution_count": 51,
   "metadata": {},
   "outputs": [],
   "source": [
    "bag_preds = best_bag.predict(test_x)"
   ]
  },
  {
   "cell_type": "code",
   "execution_count": 52,
   "metadata": {},
   "outputs": [
    {
     "name": "stdout",
     "output_type": "stream",
     "text": [
      "25970112.527521636\n"
     ]
    }
   ],
   "source": [
    "bag_mse = mean_squared_error(bag_preds,test_y)\n",
    "print(bag_mse)"
   ]
  },
  {
   "cell_type": "markdown",
   "metadata": {},
   "source": [
    "## RANDOM FOREST REGRESSOR TO PREDICT CAR PRICES"
   ]
  },
  {
   "cell_type": "markdown",
   "metadata": {},
   "source": [
    "### g) Grid Search to find best model:"
   ]
  },
  {
   "cell_type": "code",
   "execution_count": 53,
   "metadata": {},
   "outputs": [],
   "source": [
    "# SAME PROCESSES AS WE DID ON PREVIOUS CHAPTER WITH DIFFERENT PARAMETERS AND REST IS SAME\n",
    "\n",
    "parameters = [{\"n_estimators\" : [25, 50, 100, 250], \"max_depth\" : [None, 1, 5, 10],\"random_state\":[0]}]\n",
    "\n",
    "rf_reg = RandomForestRegressor()\n",
    "\n",
    "random_forest_grid = GridSearchCV(estimator=rf_reg , param_grid = parameters, cv= 5, scoring = \"neg_mean_squared_error\")\n",
    "random_forest_grid_fit = random_forest_grid.fit(train_x_e,train_y)"
   ]
  },
  {
   "cell_type": "code",
   "execution_count": 54,
   "metadata": {},
   "outputs": [
    {
     "data": {
      "text/plain": [
       "{'max_depth': 5, 'n_estimators': 50, 'random_state': 0}"
      ]
     },
     "execution_count": 54,
     "metadata": {},
     "output_type": "execute_result"
    }
   ],
   "source": [
    "random_forest_grid.best_params_"
   ]
  },
  {
   "cell_type": "code",
   "execution_count": 55,
   "metadata": {},
   "outputs": [
    {
     "data": {
      "text/plain": [
       "8050778.6728321295"
      ]
     },
     "execution_count": 55,
     "metadata": {},
     "output_type": "execute_result"
    }
   ],
   "source": [
    "abs(random_forest_grid.best_score_)"
   ]
  },
  {
   "cell_type": "markdown",
   "metadata": {},
   "source": [
    "### h) Test your model:"
   ]
  },
  {
   "cell_type": "code",
   "execution_count": 56,
   "metadata": {},
   "outputs": [],
   "source": [
    "best_random_forest = RandomForestRegressor(max_depth=5,n_estimators=50,random_state=0)\n",
    "best_random_forest_fit = best_random_forest.fit(train_x_e,train_y)"
   ]
  },
  {
   "cell_type": "code",
   "execution_count": 57,
   "metadata": {},
   "outputs": [],
   "source": [
    "random_forest_preds = best_random_forest.predict(test_x)"
   ]
  },
  {
   "cell_type": "code",
   "execution_count": 58,
   "metadata": {},
   "outputs": [
    {
     "name": "stdout",
     "output_type": "stream",
     "text": [
      "33330466.85609337\n"
     ]
    }
   ],
   "source": [
    "random_forest_mse = mean_squared_error(random_forest_preds,test_y)\n",
    "print(random_forest_mse)"
   ]
  },
  {
   "cell_type": "markdown",
   "metadata": {},
   "source": [
    "### i) Feature Importances:"
   ]
  },
  {
   "cell_type": "code",
   "execution_count": 59,
   "metadata": {},
   "outputs": [],
   "source": [
    "# MATCHING THE IMPORTANCES AND FEATURE NAMES AND ADDING THEM IN OUT LIST AND SORTING IT AND PRINGTING OUR 3 MOST IMPORTANT FEATURES\n",
    "feature_importance = []\n",
    "for name, score in zip(train_x_e.columns, best_random_forest.feature_importances_):\n",
    "    feature_importance.append((score, name))\n",
    "feature_importance.sort()\n",
    "feature_importance = feature_importance[::-1]"
   ]
  },
  {
   "cell_type": "code",
   "execution_count": 60,
   "metadata": {},
   "outputs": [
    {
     "name": "stdout",
     "output_type": "stream",
     "text": [
      "['enginesize', 'curbweight', 'citympg']\n"
     ]
    }
   ],
   "source": [
    "top_3_rf_features = [i[1] for i in feature_importance[0:3]]\n",
    "print(top_3_rf_features)"
   ]
  }
 ],
 "metadata": {
  "kernelspec": {
   "display_name": "Python 3",
   "language": "python",
   "name": "python3"
  },
  "language_info": {
   "codemirror_mode": {
    "name": "ipython",
    "version": 3
   },
   "file_extension": ".py",
   "mimetype": "text/x-python",
   "name": "python",
   "nbconvert_exporter": "python",
   "pygments_lexer": "ipython3",
   "version": "3.7.4"
  },
  "toc": {
   "base_numbering": 1,
   "nav_menu": {},
   "number_sections": false,
   "sideBar": true,
   "skip_h1_title": false,
   "title_cell": "Table of Contents",
   "title_sidebar": "Contents",
   "toc_cell": false,
   "toc_position": {
    "height": "calc(100% - 180px)",
    "left": "10px",
    "top": "150px",
    "width": "284.444px"
   },
   "toc_section_display": true,
   "toc_window_display": false
  },
  "varInspector": {
   "cols": {
    "lenName": 16,
    "lenType": 16,
    "lenVar": 40
   },
   "kernels_config": {
    "python": {
     "delete_cmd_postfix": "",
     "delete_cmd_prefix": "del ",
     "library": "var_list.py",
     "varRefreshCmd": "print(var_dic_list())"
    },
    "r": {
     "delete_cmd_postfix": ") ",
     "delete_cmd_prefix": "rm(",
     "library": "var_list.r",
     "varRefreshCmd": "cat(var_dic_list()) "
    }
   },
   "types_to_exclude": [
    "module",
    "function",
    "builtin_function_or_method",
    "instance",
    "_Feature"
   ],
   "window_display": false
  }
 },
 "nbformat": 4,
 "nbformat_minor": 2
}
